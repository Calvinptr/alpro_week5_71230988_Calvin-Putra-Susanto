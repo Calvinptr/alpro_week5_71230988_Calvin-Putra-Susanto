{
 "cells": [
  {
   "cell_type": "code",
   "execution_count": 1,
   "id": "4ccc9278",
   "metadata": {},
   "outputs": [
    {
     "name": "stdout",
     "output_type": "stream",
     "text": [
      "Masukkan sebuah bilangan: 7\n",
      "Masukkan sebuah bilangan: 10\n",
      "7 x 10 = 10 + 10 + 10 + 10 + 10 + 10 + 10  =  70."
     ]
    }
   ],
   "source": [
    "def perkalian(a, b):\n",
    "    hasil = 0\n",
    "    for i in range(a):\n",
    "        hasil += b\n",
    "    return hasil\n",
    "\n",
    "a = int(input(\"Masukkan sebuah bilangan: \"))\n",
    "b = int(input(\"Masukkan sebuah bilangan: \"))\n",
    "hasil_kali = perkalian(a, b)\n",
    "print(a, \"x\", b, \"= \", end='')\n",
    "for i in range(a):\n",
    "    if i != a - 1:\n",
    "        print(b, \"+\", end=' ')\n",
    "    else:\n",
    "        print(b, \" \", end='')\n",
    "        \n",
    "print(\"= \", hasil_kali, end='.')"
   ]
  },
  {
   "cell_type": "code",
   "execution_count": 3,
   "id": "b7b39790",
   "metadata": {},
   "outputs": [
    {
     "name": "stdout",
     "output_type": "stream",
     "text": [
      "Masukkan bilangan batas bawah :10\n",
      "Masukkan bilangan batas atas :25\n",
      "bawah = 10, atas = 25. Karena bawah < atas, berarti dari kecil ke besar, maka hasilnya \n",
      "adalah : 11,13,15,17,19,21,23,25."
     ]
    }
   ],
   "source": [
    "def ganjil (bwh, ats):\n",
    "    if bwh < ats:\n",
    "        print(f\"bawah = {bwh}, atas = {ats}. Karena bawah < atas, berarti dari kecil ke besar, maka hasilnya \\nadalah \", end = ': ' )\n",
    "        for i in range(bwh,ats+1):\n",
    "            if i % 2 == 1:\n",
    "                print(i, end = ',' if i < ats - 1 else '.')\n",
    "\n",
    "    if bwh > ats:\n",
    "        print(f\"bawah = {bwh}, atas = {ats}. Karena bawah > atas, berarti dari besar ke kecil, maka hasilnya \\nadalah \", end = ': ' )\n",
    "        for i in range(bwh,ats-1, -1):\n",
    "            if i % 2 == 1:\n",
    "                print(i, end =',' if i > ats + 1 else '.')\n",
    "            \n",
    "bwh = int(input(\"Masukkan bilangan batas bawah :\"))\n",
    "ats = int(input(\"Masukkan bilangan batas atas :\"))\n",
    "ganjil(bwh, ats)"
   ]
  },
  {
   "cell_type": "code",
   "execution_count": 4,
   "id": "e7519288",
   "metadata": {},
   "outputs": [
    {
     "name": "stdout",
     "output_type": "stream",
     "text": [
      "Program penghitung IPS Mahasiswa\n",
      "Berapa jumlah mata kuliah? 5\n",
      "Nilai MK 1: A\n",
      "Nilai MK 2: B\n",
      "Nilai MK 3: A\n",
      "Nilai MK 4: B\n",
      "Nilai MK 5: A\n",
      "Nilai IPS anda semester ini 3.6\n"
     ]
    }
   ],
   "source": [
    "print(\"Program penghitung IPS Mahasiswa\")\n",
    "IndeksPrestasiSemester = int(input(\"Berapa jumlah mata kuliah? \"))\n",
    "total = 0\n",
    "for i in range(1, IndeksPrestasiSemester+1):\n",
    "    nilai = input (f\"Nilai MK {i}: \")\n",
    "\n",
    "    if nilai == 'A':\n",
    "        nilai = 4\n",
    "    elif nilai == 'B':\n",
    "        nilai = 3\n",
    "    elif nilai == 'C':\n",
    "        nilai = 2\n",
    "    elif nilai == 'D':\n",
    "        nilai = 1\n",
    "\n",
    "    total += nilai * 3\n",
    "\n",
    "jumlah_sks = IndeksPrestasiSemester * 3\n",
    "ips = total / jumlah_sks\n",
    "print(\"Nilai IPS anda semester ini\", round(ips, 2))"
   ]
  },
  {
   "cell_type": "code",
   "execution_count": null,
   "id": "5ccac532",
   "metadata": {},
   "outputs": [],
   "source": []
  }
 ],
 "metadata": {
  "kernelspec": {
   "display_name": "Python 3 (ipykernel)",
   "language": "python",
   "name": "python3"
  },
  "language_info": {
   "codemirror_mode": {
    "name": "ipython",
    "version": 3
   },
   "file_extension": ".py",
   "mimetype": "text/x-python",
   "name": "python",
   "nbconvert_exporter": "python",
   "pygments_lexer": "ipython3",
   "version": "3.11.5"
  }
 },
 "nbformat": 4,
 "nbformat_minor": 5
}
